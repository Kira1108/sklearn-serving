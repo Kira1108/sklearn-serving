{
 "cells": [
  {
   "cell_type": "code",
   "execution_count": 1,
   "id": "df87687f-71a7-418c-bf26-bd96a8762f89",
   "metadata": {},
   "outputs": [],
   "source": [
    "import numpy as np\n",
    "x_0 = np.array([[ 0.,  0.,  1., 11., 14., 15.,  3.,  0.,  0.,  1., 13., 16., 12.,\n",
    "        16.,  8.,  0.,  0.,  8., 16.,  4.,  6., 16.,  5.,  0.,  0.,  5.,\n",
    "        15., 11., 13., 14.,  0.,  0.,  0.,  0.,  2., 12., 16., 13.,  0.,\n",
    "         0.,  0.,  0.,  0., 13., 16., 16.,  6.,  0.,  0.,  0.,  0., 16.,\n",
    "        16., 16.,  7.,  0.,  0.,  0.,  0., 11., 13., 12.,  1.,  0.]])"
   ]
  },
  {
   "cell_type": "code",
   "execution_count": 2,
   "id": "13cbe356-c8ff-47ca-87cb-40f41bb5e260",
   "metadata": {},
   "outputs": [
    {
     "data": {
      "text/plain": [
       "{'model_name': 'mnist-svm',\n",
       " 'model_version': 'v0.1.0',\n",
       " 'id': '1c17095b-725a-4f00-8f29-99170d68e71b',\n",
       " 'parameters': None,\n",
       " 'outputs': [{'name': 'predict',\n",
       "   'shape': [1],\n",
       "   'datatype': 'INT64',\n",
       "   'parameters': None,\n",
       "   'data': [8]}]}"
      ]
     },
     "execution_count": 2,
     "metadata": {},
     "output_type": "execute_result"
    }
   ],
   "source": [
    "import requests\n",
    "inference_request = {\n",
    "    \"inputs\": [\n",
    "        {\n",
    "          \"name\": \"predict\",\n",
    "          \"shape\": x_0.shape,\n",
    "          \"datatype\": \"FP32\",\n",
    "          \"data\": x_0.tolist()\n",
    "        }\n",
    "    ]\n",
    "}\n",
    "\n",
    "endpoint = \"http://localhost:8080/v2/models/mnist-svm/versions/v0.1.0/infer\"\n",
    "response = requests.post(endpoint, json=inference_request)\n",
    "\n",
    "response.json()"
   ]
  },
  {
   "cell_type": "code",
   "execution_count": null,
   "id": "ad17b46c-899d-414e-be13-78c4b46e9fc1",
   "metadata": {},
   "outputs": [],
   "source": []
  }
 ],
 "metadata": {
  "kernelspec": {
   "display_name": "Python 3 (ipykernel)",
   "language": "python",
   "name": "python3"
  },
  "language_info": {
   "codemirror_mode": {
    "name": "ipython",
    "version": 3
   },
   "file_extension": ".py",
   "mimetype": "text/x-python",
   "name": "python",
   "nbconvert_exporter": "python",
   "pygments_lexer": "ipython3",
   "version": "3.9.10"
  }
 },
 "nbformat": 4,
 "nbformat_minor": 5
}
